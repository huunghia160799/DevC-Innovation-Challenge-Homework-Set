{
  "nbformat": 4,
  "nbformat_minor": 0,
  "metadata": {
    "colab": {
      "name": "Copy of DAwP_Assignment_1.ipynb",
      "provenance": [],
      "collapsed_sections": []
    },
    "kernelspec": {
      "name": "python3",
      "display_name": "Python 3"
    }
  },
  "cells": [
    {
      "cell_type": "markdown",
      "metadata": {
        "id": "jjZG7BNlbWtO",
        "colab_type": "text"
      },
      "source": [
        "![](https://i.imgur.com/0AUxkXt.png)"
      ]
    },
    {
      "cell_type": "markdown",
      "metadata": {
        "id": "jbpQzyjqbflM",
        "colab_type": "text"
      },
      "source": [
        "# Assignment 1 - The Hacker Rank\n",
        "\n",
        "HackerRank is a place where programmers from all over the world come together to solve problems in a wide range of Computer Science domains.\n",
        "\n",
        "As you solve more challenges, you earn points and move up the HackerRank Leaderboard.\n",
        "\n",
        "Looking for a job at an awesome company? You can get hired by solving [challenges](https://www.hackerrank.com/jobs/search)!\n",
        "\n",
        "It's cool. Let's establish your knowledge and fight for glory!\n",
        "\n",
        "But before that let's make it clear that.."
      ]
    },
    {
      "cell_type": "markdown",
      "metadata": {
        "id": "-ndmD4naciAN",
        "colab_type": "text"
      },
      "source": [
        "## Note-taking is IMPORTANT\n",
        "\n",
        "Blog: [Why is note-taking important](https://nickblackbourn.com/blog/why-is-note-taking-important/)\n",
        "\n",
        "Note taking isn’t just important for college students, it’s a valuable life skill.\n",
        "\n",
        "Effective note taking helps you to remember information and aids your understanding of that information. \n",
        "\n",
        "**Notes boost your understanding**\n",
        "\n",
        "By making notes, you force yourself to construct a conceptual mental representation of the ideas you are grappling with. It is this process that helps you comprehend the subject matter you are working with.\n",
        "\n",
        "**Notes are a repository of your thinking**\n",
        "\n",
        "When you need to recall something that you came across a while ago, you can go over the main ideas by looking over your notes. This is why good, comprehensive notes are so useful; they are a catalogue of the best ideas you’ve encountered, and what you thought about them.\n",
        "\n",
        "etc.\n",
        "\n",
        "\n",
        "\n",
        "\n",
        "\n",
        "\n",
        "\n"
      ]
    },
    {
      "cell_type": "markdown",
      "metadata": {
        "id": "IGvKPsdVfX-F",
        "colab_type": "text"
      },
      "source": [
        "## Requirements\n",
        "\n",
        "Pick 10 challenges on HackerRank about SQL and 5 about Python in **easy** level:\n",
        "\n",
        "[HackerRank - Domain SQL](https://www.hackerrank.com/domains/sql?filters%5Bdifficulty%5D%5B%5D=easy&filters%5Bsubdomains%5D%5B%5D=select)\n",
        "\n",
        "[HackerRank - Domain Python](https://www.hackerrank.com/domains/python?filters%5Bdifficulty%5D%5B%5D=easy)\n",
        "\n",
        "For each challenge:\n",
        "\n",
        "* Create a markdown cell first that describes the challenge.\n",
        "* Solve the challenge on HackerRank and copy your solution to a code cell below\n",
        "* (Optional) A short description about how you came up with the solution would be awesome."
      ]
    },
    {
      "cell_type": "markdown",
      "metadata": {
        "id": "higGK1Y5iAea",
        "colab_type": "text"
      },
      "source": [
        "## Example"
      ]
    },
    {
      "cell_type": "markdown",
      "metadata": {
        "id": "D2yU2FYDi4tj",
        "colab_type": "text"
      },
      "source": [
        "### SQL"
      ]
    },
    {
      "cell_type": "markdown",
      "metadata": {
        "id": "gu4DDH7Ki77C",
        "colab_type": "text"
      },
      "source": [
        "\n",
        "#### Problem 1\n",
        "\n",
        "Query all columns for all American cities in **CITY** with populations larger than 100000. The CountryCode for America is USA.\n",
        "\n",
        "**Input Format**\n",
        "\n",
        "The **CITY** table is described as follows:\n",
        "\n",
        "| Field | Type |\n",
        "|:----:|:---:|\n",
        "| ID | NUMBER |\n",
        "| NAME | VARCHAR2(17) |\n",
        "| COUNTRYCODE | VARCHAR2(3) |\n",
        "| DISTRICT | VARCHAR2(20) |\n",
        "| POPULATION | NUMBER |"
      ]
    },
    {
      "cell_type": "code",
      "metadata": {
        "id": "hhAwMjyhbT1b",
        "colab_type": "code",
        "colab": {}
      },
      "source": [
        "# Solution\n",
        "# SELECT * from city WHERE population>100000 AND countrycode='USA';"
      ],
      "execution_count": 0,
      "outputs": []
    },
    {
      "cell_type": "markdown",
      "metadata": {
        "id": "0AxyfiJijJ7T",
        "colab_type": "text"
      },
      "source": [
        "### Python"
      ]
    },
    {
      "cell_type": "markdown",
      "metadata": {
        "id": "PEW8LsB5jLqf",
        "colab_type": "text"
      },
      "source": [
        "#### Problem 1\n",
        "\n",
        "**Task** \n",
        "Given an integer, , perform the following conditional actions:\n",
        "\n",
        "* If `n` is odd, print *Weird*\n",
        "* If `n` is even and in the inclusive range of 2 to 5, print *Not Weird*\n",
        "* If `n` is even and in the inclusive range of 6 to 20, print *Weird*\n",
        "* If `n` is even and greater than 20, print *Not Weird*\n",
        "\n",
        "**Input Format**\n",
        "\n",
        "A single line containing a positive integer, .\n",
        "\n",
        "**Output Format**\n",
        "\n",
        "Print Weird if the number is weird; otherwise, print Not Weird."
      ]
    },
    {
      "cell_type": "code",
      "metadata": {
        "id": "JBOxgw0zjLC2",
        "colab_type": "code",
        "colab": {}
      },
      "source": [
        "n = int(input())\n",
        "\n",
        "if n % 2 == 1:\n",
        "    print('Weird')\n",
        "else:\n",
        "    if (n >= 2) and (n <= 5):\n",
        "        print('Not Weird')\n",
        "    elif (n >= 6) and (n <= 20):\n",
        "        print('Weird')\n",
        "    else:\n",
        "        print('Not Weird')"
      ],
      "execution_count": 0,
      "outputs": []
    },
    {
      "cell_type": "markdown",
      "metadata": {
        "id": "a-Q3VE7YkA9A",
        "colab_type": "text"
      },
      "source": [
        "## Your turn\n",
        "\n",
        "Good luck and have fun!"
      ]
    },
    {
      "cell_type": "markdown",
      "metadata": {
        "id": "mnotm9-q5hQL",
        "colab_type": "text"
      },
      "source": [
        "##SQL"
      ]
    },
    {
      "cell_type": "markdown",
      "metadata": {
        "id": "JDhFM0Qq6aID",
        "colab_type": "text"
      },
      "source": [
        "\n",
        "#### Problem 1\n",
        "\n",
        "Query all columns for all American cities in **CITY** with populations larger than 100000. The CountryCode for America is USA.\n",
        "\n",
        "**Input Format**\n",
        "\n",
        "The **CITY** table is described as follows:\n",
        "\n",
        "| Field | Type |\n",
        "|:----:|:---:|\n",
        "| ID | NUMBER |\n",
        "| NAME | VARCHAR2(17) |\n",
        "| COUNTRYCODE | VARCHAR2(3) |\n",
        "| DISTRICT | VARCHAR2(20) |\n",
        "| POPULATION | NUMBER |"
      ]
    },
    {
      "cell_type": "code",
      "metadata": {
        "id": "RdkdZgjaj0To",
        "colab_type": "code",
        "colab": {}
      },
      "source": [
        "SELECT * FROM CITY WHERE POPULATION > 100000 AND COUNTRYCODE = 'USA'"
      ],
      "execution_count": 0,
      "outputs": []
    },
    {
      "cell_type": "markdown",
      "metadata": {
        "colab_type": "text",
        "id": "7shkz4366lK4"
      },
      "source": [
        "\n",
        "#### Problem 2\n",
        "\n",
        "Query all columns (attributes) for every row in the CITY table.\n",
        "\n",
        "\n",
        "**Input Format**\n",
        "\n",
        "The **CITY** table is described as follows:\n",
        "\n",
        "| Field | Type |\n",
        "|:----:|:---:|\n",
        "| ID | NUMBER |\n",
        "| NAME | VARCHAR2(17) |\n",
        "| COUNTRYCODE | VARCHAR2(3) |\n",
        "| DISTRICT | VARCHAR2(20) |\n",
        "| POPULATION | NUMBER |"
      ]
    },
    {
      "cell_type": "code",
      "metadata": {
        "colab_type": "code",
        "id": "f5aaaDVp6lK-",
        "colab": {}
      },
      "source": [
        "SELECT * FROM CITY"
      ],
      "execution_count": 0,
      "outputs": []
    },
    {
      "cell_type": "markdown",
      "metadata": {
        "colab_type": "text",
        "id": "dK6iCQEW63Es"
      },
      "source": [
        "\n",
        "#### Problem 3\n",
        "\n",
        "Query all columns for a city in CITY with the ID 1661.\n",
        "\n",
        "\n",
        "**Input Format**\n",
        "\n",
        "The **CITY** table is described as follows:\n",
        "\n",
        "| Field | Type |\n",
        "|:----:|:---:|\n",
        "| ID | NUMBER |\n",
        "| NAME | VARCHAR2(17) |\n",
        "| COUNTRYCODE | VARCHAR2(3) |\n",
        "| DISTRICT | VARCHAR2(20) |\n",
        "| POPULATION | NUMBER |"
      ]
    },
    {
      "cell_type": "code",
      "metadata": {
        "colab_type": "code",
        "id": "RPmBlNPQ63E0",
        "colab": {}
      },
      "source": [
        "SELECT * FROM city WHERE id = 1661"
      ],
      "execution_count": 0,
      "outputs": []
    },
    {
      "cell_type": "markdown",
      "metadata": {
        "colab_type": "text",
        "id": "vazKEGjj9P3e"
      },
      "source": [
        "\n",
        "#### Problem 4\n",
        "\n",
        "Query all attributes of every Japanese city in the CITY table. The COUNTRYCODE for Japan is JPN.\n",
        "\n",
        "\n",
        "**Input Format**\n",
        "\n",
        "The **CITY** table is described as follows:\n",
        "\n",
        "| Field | Type |\n",
        "|:----:|:---:|\n",
        "| ID | NUMBER |\n",
        "| NAME | VARCHAR2(17) |\n",
        "| COUNTRYCODE | VARCHAR2(3) |\n",
        "| DISTRICT | VARCHAR2(20) |\n",
        "| POPULATION | NUMBER |"
      ]
    },
    {
      "cell_type": "code",
      "metadata": {
        "colab_type": "code",
        "id": "dl5cBoyB9P3n",
        "colab": {}
      },
      "source": [
        "SELECT * FROM CITY WHERE COUNTRYCODE = 'JPN'"
      ],
      "execution_count": 0,
      "outputs": []
    },
    {
      "cell_type": "markdown",
      "metadata": {
        "colab_type": "text",
        "id": "XCWbfxGk9pek"
      },
      "source": [
        "\n",
        "#### Problem 5\n",
        "\n",
        "Query the names of all the Japanese cities in the CITY table. The COUNTRYCODE for Japan is JPN.\n",
        "\n",
        "**Input Format**\n",
        "\n",
        "The **CITY** table is described as follows:\n",
        "\n",
        "| Field | Type |\n",
        "|:----:|:---:|\n",
        "| ID | NUMBER |\n",
        "| NAME | VARCHAR2(17) |\n",
        "| COUNTRYCODE | VARCHAR2(3) |\n",
        "| DISTRICT | VARCHAR2(20) |\n",
        "| POPULATION | NUMBER |"
      ]
    },
    {
      "cell_type": "code",
      "metadata": {
        "colab_type": "code",
        "id": "SSljmX599pem",
        "colab": {}
      },
      "source": [
        "SELECT name FROM city WHERE countrycode = 'JPN'"
      ],
      "execution_count": 0,
      "outputs": []
    },
    {
      "cell_type": "markdown",
      "metadata": {
        "colab_type": "text",
        "id": "rOuUkm2r9qBF"
      },
      "source": [
        "\n",
        "#### Problem 6\n",
        "\n",
        "Query a list of CITY and STATE from the STATION table.\n",
        "\n",
        "**Input Format**\n",
        "\n",
        "The STATION table is described as follows:\n",
        "\n",
        "| Field | Type |\n",
        "|:----:|:---:|\n",
        "| ID | NUMBER |\n",
        "| CITY | VARCHAR2(21) |\n",
        "| STATE | VARCHAR2(2) |\n",
        "| LAT_N | NUMBER |\n",
        "| LONG_W | NUMBER |"
      ]
    },
    {
      "cell_type": "code",
      "metadata": {
        "colab_type": "code",
        "id": "fFyJPiE_9qBG",
        "colab": {}
      },
      "source": [
        "SELECT CITY, STATE FROM STATION"
      ],
      "execution_count": 0,
      "outputs": []
    },
    {
      "cell_type": "markdown",
      "metadata": {
        "colab_type": "text",
        "id": "O8mWXZ579r1c"
      },
      "source": [
        "\n",
        "#### Problem 7\n",
        "\n",
        "Query a list of CITY names from STATION with even ID numbers only. You may print the results in any order, but must exclude duplicates from your answer.\n",
        "\n",
        "**Input Format**\n",
        "\n",
        "The STATION table is described as follows:\n",
        "\n",
        "| Field | Type |\n",
        "|:----:|:---:|\n",
        "| ID | NUMBER |\n",
        "| CITY | VARCHAR2(21) |\n",
        "| STATE | VARCHAR2(2) |\n",
        "| LAT_N | NUMBER |\n",
        "| LONG_W | NUMBER |"
      ]
    },
    {
      "cell_type": "code",
      "metadata": {
        "colab_type": "code",
        "id": "SJttI52m9r1g",
        "colab": {}
      },
      "source": [
        "SELECT DISTINCT CITY FROM STATION WHERE ID % 2 = 0"
      ],
      "execution_count": 0,
      "outputs": []
    },
    {
      "cell_type": "markdown",
      "metadata": {
        "colab_type": "text",
        "id": "-nfZXNBU9shq"
      },
      "source": [
        "\n",
        "#### Problem 8\n",
        "\n",
        "Let $N$ be the number of CITY entries in STATION, and let $N'$ be the number of distinct CITY names in STATION; query the value of $N - N'$ from STATION. In other words, find the difference between the total number of CITY entries in the table and the number of distinct CITY entries in the table.\n",
        "\n",
        "**Input Format**\n",
        "\n",
        "The STATION table is described as follows:\n",
        "\n",
        "| Field | Type |\n",
        "|:----:|:---:|\n",
        "| ID | NUMBER |\n",
        "| CITY | VARCHAR2(21) |\n",
        "| STATE | VARCHAR2(2) |\n",
        "| LAT_N | NUMBER |\n",
        "| LONG_W | NUMBER |"
      ]
    },
    {
      "cell_type": "code",
      "metadata": {
        "colab_type": "code",
        "id": "PSLU6Xzy9shr",
        "colab": {}
      },
      "source": [
        "SELECT COUNT(CITY) - COUNT(DISTINCT CITY) FROM STATION"
      ],
      "execution_count": 0,
      "outputs": []
    },
    {
      "cell_type": "markdown",
      "metadata": {
        "colab_type": "text",
        "id": "Ltc1IAvh9tB7"
      },
      "source": [
        "\n",
        "#### Problem 9\n",
        "\n",
        "Query the two cities in STATION with the shortest and longest CITY names, as well as their respective lengths (i.e.: number of characters in the name). If there is more than one smallest or largest city, choose the one that comes first when ordered alphabetically.\n",
        "\n",
        "**Input Format**\n",
        "\n",
        "The STATION table is described as follows:\n",
        "\n",
        "| Field | Type |\n",
        "|:----:|:---:|\n",
        "| ID | NUMBER |\n",
        "| CITY | VARCHAR2(21) |\n",
        "| STATE | VARCHAR2(2) |\n",
        "| LAT_N | NUMBER |\n",
        "| LONG_W | NUMBER |"
      ]
    },
    {
      "cell_type": "code",
      "metadata": {
        "colab_type": "code",
        "id": "nr3-QRau9tB9",
        "colab": {}
      },
      "source": [
        "SELECT CITY, LENGTH(CITY) FROM STATION ORDER BY LENGTH(CITY) ASC, CITY LIMIT 1;\n",
        "SELECT CITY, LENGTH(CITY) FROM STATION ORDER BY LENGTH(CITY) DESC, CITY LIMIT 1;"
      ],
      "execution_count": 0,
      "outputs": []
    },
    {
      "cell_type": "markdown",
      "metadata": {
        "colab_type": "text",
        "id": "AI7Dh3p33gsk"
      },
      "source": [
        "\n",
        "#### Problem 10\n",
        "\n",
        "Query the list of CITY names from STATION which have vowels (i.e., a, e, i, o, and u) as both their first and last characters. Your result cannot contain duplicates.\n",
        "\n",
        "**Input Format**\n",
        "\n",
        "The STATION table is described as follows:\n",
        "\n",
        "| Field | Type |\n",
        "|:----:|:---:|\n",
        "| ID | NUMBER |\n",
        "| CITY | VARCHAR2(21) |\n",
        "| STATE | VARCHAR2(2) |\n",
        "| LAT_N | NUMBER |\n",
        "| LONG_W | NUMBER |"
      ]
    },
    {
      "cell_type": "code",
      "metadata": {
        "colab_type": "code",
        "id": "pAeA4vWa3gss",
        "colab": {}
      },
      "source": [
        "SELECT DISTINCT CITY FROM STATION WHERE SUBSTRING(CITY, 1, 1) IN ('a', 'e', 'i', 'o', 'u') AND RIGHT(CITY, 1) IN ('a', 'e', 'i', 'o', 'u')"
      ],
      "execution_count": 0,
      "outputs": []
    },
    {
      "cell_type": "markdown",
      "metadata": {
        "id": "rHhBVBds5ccj",
        "colab_type": "text"
      },
      "source": [
        "##Python"
      ]
    },
    {
      "cell_type": "markdown",
      "metadata": {
        "id": "9MHZH-Kv4qbn",
        "colab_type": "text"
      },
      "source": [
        "### Problem 1\n",
        "\n",
        "###Task\n",
        "\n",
        "You are given a two lists $A$ and $B$. Your task is to compute their cartesian product $A$ X $B$.\n",
        "\n",
        "###Example\n",
        "\n",
        "A = [1, 2]\n",
        "\n",
        "B = [3, 4]\n",
        "\n",
        "AxB = [(1, 3), (1, 4), (2, 3), (2, 4)]\n",
        "\n",
        "Note: $A$ and $B$ are sorted lists, and the cartesian product's tuples should be output in sorted order.\n",
        "\n",
        "###Input Format\n",
        "\n",
        "The first line contains the space separated elements of list .\n",
        "The second line contains the space separated elements of list .\n",
        "\n",
        "Both lists have no duplicate integer elements.\n",
        "\n",
        "\n",
        "###Output Format\n",
        "\n",
        "Output the space separated tuples of the cartesian product."
      ]
    },
    {
      "cell_type": "code",
      "metadata": {
        "id": "-e3akO0Gj_gk",
        "colab_type": "code",
        "colab": {}
      },
      "source": [
        "# First way\n",
        "A = list(map(int, input().split()))\n",
        "B = list(map(int, input().split()))\n",
        "\n",
        "for numA in A:\n",
        "    for numB in B:\n",
        "        print('({}, {}) '.format(numA, numB), end='')"
      ],
      "execution_count": 0,
      "outputs": []
    },
    {
      "cell_type": "code",
      "metadata": {
        "id": "PrbhNtdC63FP",
        "colab_type": "code",
        "colab": {}
      },
      "source": [
        "# Second way\n",
        "A = list(map(int, input().split()))\n",
        "B = list(map(int, input().split()))\n",
        "\n",
        "from itertools import product\n",
        "\n",
        "for pair in product(A, B):\n",
        "    print(pair, end=' ')"
      ],
      "execution_count": 0,
      "outputs": []
    },
    {
      "cell_type": "markdown",
      "metadata": {
        "colab_type": "text",
        "id": "XauxK3RL6V7C"
      },
      "source": [
        "### Problem 2\n",
        "\n",
        "###Task\n",
        "\n",
        "You are given a string $S$.\n",
        "Your task is to print all possible permutations of size $k$ of the string in lexicographic sorted order.\n",
        "\n",
        "###Input Format\n",
        "\n",
        "A single line containing the space separated string $S$ and the integer value $k$.\n",
        "\n",
        "The string contains only UPPERCASE characters.\n",
        "\n",
        "###Output Format\n",
        "\n",
        "Print the permutations of the string  on separate lines.\n",
        "\n",
        "###Sample Input\n",
        "```\n",
        "HACK 2\n",
        "```\n",
        "###Sample Output\n",
        "```\n",
        "AC\n",
        "AH\n",
        "AK\n",
        "CA\n",
        "CH\n",
        "CK\n",
        "HA\n",
        "HC\n",
        "HK\n",
        "KA\n",
        "KC\n",
        "KH\n",
        "```"
      ]
    },
    {
      "cell_type": "code",
      "metadata": {
        "colab_type": "code",
        "id": "bMp3KNG06V7K",
        "colab": {}
      },
      "source": [
        "S, k = input().split()\n",
        "from itertools import permutations\n",
        "\n",
        "results = []\n",
        "for tup in permutations(S, int(k)):\n",
        "    results.append(''.join(tup))\n",
        "results.sort()\n",
        "\n",
        "for result in results:\n",
        "    print(result)"
      ],
      "execution_count": 0,
      "outputs": []
    },
    {
      "cell_type": "markdown",
      "metadata": {
        "colab_type": "text",
        "id": "H9qq0-SW9U2X"
      },
      "source": [
        "### Problem 3\n",
        "\n",
        "###Task\n",
        "\n",
        "You are given a string $S$.\n",
        "Your task is to print all possible combinations of size $k$ of the string in lexicographic sorted order.\n",
        "\n",
        "###Input Format\n",
        "\n",
        "A single line containing the space separated string $S$ and the integer value $k$.\n",
        "\n",
        "The string contains only UPPERCASE characters.\n",
        "\n",
        "###Output Format\n",
        "\n",
        "Print the different combinations of the string  on separate lines.\n",
        "\n",
        "###Sample Input\n",
        "\n",
        "```\n",
        "HACK 2\n",
        "```\n",
        "###Sample Output\n",
        "```\n",
        "A\n",
        "C\n",
        "H\n",
        "K\n",
        "AC\n",
        "AH\n",
        "AK\n",
        "CH\n",
        "CK\n",
        "HK\n",
        "```"
      ]
    },
    {
      "cell_type": "code",
      "metadata": {
        "colab_type": "code",
        "id": "WCwhO_Ut9U2e",
        "colab": {}
      },
      "source": [
        "from itertools import combinations\n",
        "\n",
        "S, k = input().split()\n",
        "S = sorted(S)\n",
        "k = int(k)\n",
        "for i in range(1, k + 1):\n",
        "    for tup in combinations(S, i):\n",
        "        print(''.join(tup))"
      ],
      "execution_count": 0,
      "outputs": []
    },
    {
      "cell_type": "markdown",
      "metadata": {
        "colab_type": "text",
        "id": "kV9WK0Te_Bew"
      },
      "source": [
        "### Problem 4\n",
        "\n",
        "###Task\n",
        "\n",
        "Students of District College have subscriptions to English and French newspapers. Some students have subscribed to English only, some have subscribed to French only, and some have subscribed to both newspapers.\n",
        "\n",
        "You are given two sets of student roll numbers. One set has subscribed to the English newspaper, and one set has subscribed to the French newspaper. Your task is to find the total number of students who have subscribed to either the English or the French newspaper but not both.\n",
        "\n",
        "###Input Format\n",
        "\n",
        "The first line contains the number of students who have subscribed to the English newspaper.\n",
        "The second line contains the space separated list of student roll numbers who have subscribed to the English newspaper.\n",
        "The third line contains the number of students who have subscribed to the French newspaper.\n",
        "The fourth line contains the space separated list of student roll numbers who have subscribed to the French newspaper.\n",
        "\n",
        "###Output Format\n",
        "\n",
        "Output total number of students who have subscriptions to the English or the French newspaper but not both.\n",
        "\n",
        "###Sample Input\n",
        "\n",
        "```\n",
        "9\n",
        "1 2 3 4 5 6 7 8 9\n",
        "9\n",
        "10 1 2 3 11 21 55 6 8\n",
        "```\n",
        "###Sample Output\n",
        "```\n",
        "8\n",
        "```"
      ]
    },
    {
      "cell_type": "code",
      "metadata": {
        "colab_type": "code",
        "id": "MF0AuZ0t_Be_",
        "colab": {}
      },
      "source": [
        "n = int(input())\n",
        "A = set(map(int, input().split()))\n",
        "m = int(input())\n",
        "B = set(map(int, input().split()))\n",
        "\n",
        "print(len(A^B))"
      ],
      "execution_count": 0,
      "outputs": []
    },
    {
      "cell_type": "markdown",
      "metadata": {
        "colab_type": "text",
        "id": "GClRz9soAnmH"
      },
      "source": [
        "### Problem 5\n",
        "\n",
        "###Task\n",
        "\n",
        "You are given a string $S$.\n",
        "Your task is to print all possible size $k$ replacement combinations of the string in lexicographic sorted order.\n",
        "\n",
        "###Input Format\n",
        "\n",
        "A single line containing the string $S$ and integer value $k$ separated by a space.\n",
        "\n",
        "###Output Format\n",
        "Print the combinations with their replacements of string $S$ on separate lines.\n",
        "\n",
        "###Sample Input\n",
        "\n",
        "```\n",
        "HACK 2\n",
        "```\n",
        "###Sample Output\n",
        "```\n",
        "AA\n",
        "AC\n",
        "AH\n",
        "AK\n",
        "CC\n",
        "CH\n",
        "CK\n",
        "HH\n",
        "HK\n",
        "KK\n",
        "```"
      ]
    },
    {
      "cell_type": "code",
      "metadata": {
        "colab_type": "code",
        "id": "AvRQ77ruAnmP",
        "colab": {}
      },
      "source": [
        "from itertools import combinations_with_replacement\n",
        "\n",
        "S, k = input().split()\n",
        "S = sorted(S)\n",
        "k = int(k)\n",
        "\n",
        "for comb in combinations_with_replacement(S, k):\n",
        "    print(''.join(comb))"
      ],
      "execution_count": 0,
      "outputs": []
    }
  ]
}